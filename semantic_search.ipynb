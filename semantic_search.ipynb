{
 "cells": [
  {
   "cell_type": "markdown",
   "id": "9aa1a533",
   "metadata": {},
   "source": [
    "# Semantic Search on ArXiv Data (Titles & Abstracts)"
   ]
  },
  {
   "cell_type": "markdown",
   "id": "0ed4b832",
   "metadata": {},
   "source": [
    "### Dataset: ArXiv Abstracts from Papers With Code\n",
    "### Database: Milvus-lite\n",
    "### Embedding Model: Cohere's co.embed"
   ]
  },
  {
   "cell_type": "code",
   "execution_count": 1,
   "id": "6d6897f8",
   "metadata": {},
   "outputs": [],
   "source": [
    "#! pip install pymilvus gdown milvus"
   ]
  },
  {
   "cell_type": "code",
   "execution_count": 9,
   "id": "df4e8370",
   "metadata": {},
   "outputs": [],
   "source": [
    "#!pip install cohere\n",
    "#!pip install langchain[all]\n",
    "#! python -m pip install --upgrade langchain"
   ]
  },
  {
   "cell_type": "code",
   "execution_count": 1,
   "id": "003a0d0d",
   "metadata": {},
   "outputs": [],
   "source": [
    "#Import libraries\n",
    "import pandas as pd\n",
    "import zipfile\n",
    "import cohere\n",
    "from pymilvus import FieldSchema, CollectionSchema, DataType, Collection\n",
    "#from sentence_transformers import SentenceTransformer\n",
    "from tqdm import tqdm\n",
    "#from langchain.vectorstores import Milvus"
   ]
  },
  {
   "cell_type": "code",
   "execution_count": 2,
   "id": "8612e386",
   "metadata": {},
   "outputs": [],
   "source": [
    "#Extract the zip file that has ArXiv abstracts and titles collection\n",
    "# Ref for dataset: https://paperswithcode.com/dataset/arxiv-10\n",
    "# with zipfile.ZipFile(\"./ArXiv-10.zip\",\"r\") as zip_ref:\n",
    "#     zip_ref.extractall(\"./ArXiv-10\")"
   ]
  },
  {
   "cell_type": "code",
   "execution_count": 2,
   "id": "a431f490",
   "metadata": {},
   "outputs": [
    {
     "data": {
      "text/html": [
       "<div>\n",
       "<style scoped>\n",
       "    .dataframe tbody tr th:only-of-type {\n",
       "        vertical-align: middle;\n",
       "    }\n",
       "\n",
       "    .dataframe tbody tr th {\n",
       "        vertical-align: top;\n",
       "    }\n",
       "\n",
       "    .dataframe thead th {\n",
       "        text-align: right;\n",
       "    }\n",
       "</style>\n",
       "<table border=\"1\" class=\"dataframe\">\n",
       "  <thead>\n",
       "    <tr style=\"text-align: right;\">\n",
       "      <th></th>\n",
       "      <th>index</th>\n",
       "      <th>title</th>\n",
       "      <th>abstract</th>\n",
       "      <th>label</th>\n",
       "    </tr>\n",
       "  </thead>\n",
       "  <tbody>\n",
       "    <tr>\n",
       "      <th>0</th>\n",
       "      <td>0</td>\n",
       "      <td>The Pre-He White Dwarfs in Eclipsing Binaries....</td>\n",
       "      <td>We report the first $BV$ light curves and hi...</td>\n",
       "      <td>astro-ph</td>\n",
       "    </tr>\n",
       "    <tr>\n",
       "      <th>1</th>\n",
       "      <td>1</td>\n",
       "      <td>A Possible Origin of kHZ QPOs in Low-Mass X-ra...</td>\n",
       "      <td>A possible origin of kHz QPOs in low-mass X-...</td>\n",
       "      <td>astro-ph</td>\n",
       "    </tr>\n",
       "    <tr>\n",
       "      <th>2</th>\n",
       "      <td>2</td>\n",
       "      <td>The effects of driving time scales on heating ...</td>\n",
       "      <td>Context. The relative importance of AC and D...</td>\n",
       "      <td>astro-ph</td>\n",
       "    </tr>\n",
       "    <tr>\n",
       "      <th>3</th>\n",
       "      <td>3</td>\n",
       "      <td>A new hard X-ray selected sample of extreme hi...</td>\n",
       "      <td>Extreme high-energy peaked BL Lac objects (E...</td>\n",
       "      <td>astro-ph</td>\n",
       "    </tr>\n",
       "    <tr>\n",
       "      <th>4</th>\n",
       "      <td>4</td>\n",
       "      <td>The baryon cycle of Seven Dwarfs with superbub...</td>\n",
       "      <td>We present results from a high-resolution, c...</td>\n",
       "      <td>astro-ph</td>\n",
       "    </tr>\n",
       "  </tbody>\n",
       "</table>\n",
       "</div>"
      ],
      "text/plain": [
       "   index                                              title  \\\n",
       "0      0  The Pre-He White Dwarfs in Eclipsing Binaries....   \n",
       "1      1  A Possible Origin of kHZ QPOs in Low-Mass X-ra...   \n",
       "2      2  The effects of driving time scales on heating ...   \n",
       "3      3  A new hard X-ray selected sample of extreme hi...   \n",
       "4      4  The baryon cycle of Seven Dwarfs with superbub...   \n",
       "\n",
       "                                            abstract     label  \n",
       "0    We report the first $BV$ light curves and hi...  astro-ph  \n",
       "1    A possible origin of kHz QPOs in low-mass X-...  astro-ph  \n",
       "2    Context. The relative importance of AC and D...  astro-ph  \n",
       "3    Extreme high-energy peaked BL Lac objects (E...  astro-ph  \n",
       "4    We present results from a high-resolution, c...  astro-ph  "
      ]
     },
     "execution_count": 2,
     "metadata": {},
     "output_type": "execute_result"
    }
   ],
   "source": [
    "# Read the dataset into pandas dataframe and explore \n",
    "arxiv = pd.read_csv(\"./ArXiv-10/arxiv100.csv\")\n",
    "arxiv = arxiv.reset_index()\n",
    "arxiv.head()"
   ]
  },
  {
   "cell_type": "code",
   "execution_count": 3,
   "id": "188d4ba9",
   "metadata": {},
   "outputs": [],
   "source": [
    "arxiv = arxiv.rename(columns={'index': 'id'})"
   ]
  },
  {
   "cell_type": "code",
   "execution_count": 4,
   "id": "0a191887",
   "metadata": {},
   "outputs": [
    {
     "data": {
      "text/html": [
       "<div>\n",
       "<style scoped>\n",
       "    .dataframe tbody tr th:only-of-type {\n",
       "        vertical-align: middle;\n",
       "    }\n",
       "\n",
       "    .dataframe tbody tr th {\n",
       "        vertical-align: top;\n",
       "    }\n",
       "\n",
       "    .dataframe thead th {\n",
       "        text-align: right;\n",
       "    }\n",
       "</style>\n",
       "<table border=\"1\" class=\"dataframe\">\n",
       "  <thead>\n",
       "    <tr style=\"text-align: right;\">\n",
       "      <th></th>\n",
       "      <th>id</th>\n",
       "    </tr>\n",
       "  </thead>\n",
       "  <tbody>\n",
       "    <tr>\n",
       "      <th>count</th>\n",
       "      <td>100000.000000</td>\n",
       "    </tr>\n",
       "    <tr>\n",
       "      <th>mean</th>\n",
       "      <td>49999.500000</td>\n",
       "    </tr>\n",
       "    <tr>\n",
       "      <th>std</th>\n",
       "      <td>28867.657797</td>\n",
       "    </tr>\n",
       "    <tr>\n",
       "      <th>min</th>\n",
       "      <td>0.000000</td>\n",
       "    </tr>\n",
       "    <tr>\n",
       "      <th>25%</th>\n",
       "      <td>24999.750000</td>\n",
       "    </tr>\n",
       "    <tr>\n",
       "      <th>50%</th>\n",
       "      <td>49999.500000</td>\n",
       "    </tr>\n",
       "    <tr>\n",
       "      <th>75%</th>\n",
       "      <td>74999.250000</td>\n",
       "    </tr>\n",
       "    <tr>\n",
       "      <th>max</th>\n",
       "      <td>99999.000000</td>\n",
       "    </tr>\n",
       "  </tbody>\n",
       "</table>\n",
       "</div>"
      ],
      "text/plain": [
       "                  id\n",
       "count  100000.000000\n",
       "mean    49999.500000\n",
       "std     28867.657797\n",
       "min         0.000000\n",
       "25%     24999.750000\n",
       "50%     49999.500000\n",
       "75%     74999.250000\n",
       "max     99999.000000"
      ]
     },
     "execution_count": 4,
     "metadata": {},
     "output_type": "execute_result"
    }
   ],
   "source": [
    "arxiv.describe()"
   ]
  },
  {
   "cell_type": "code",
   "execution_count": 4,
   "id": "ff13e262",
   "metadata": {},
   "outputs": [],
   "source": [
    "#Check for NA\n",
    "arxiv = arxiv.dropna()"
   ]
  },
  {
   "cell_type": "code",
   "execution_count": 5,
   "id": "242abc60",
   "metadata": {},
   "outputs": [
    {
     "data": {
      "text/plain": [
       "array(['astro-ph', 'cond-mat', 'cs', 'eess', 'hep-ph', 'hep-th', 'math',\n",
       "       'physics', 'quant-ph', 'stat'], dtype=object)"
      ]
     },
     "execution_count": 5,
     "metadata": {},
     "output_type": "execute_result"
    }
   ],
   "source": [
    "arxiv['label'].unique()"
   ]
  },
  {
   "cell_type": "code",
   "execution_count": 7,
   "id": "b4849567",
   "metadata": {},
   "outputs": [],
   "source": [
    "# Store the dataset into milvus db\n",
    "COLLECTION_NAME = \"arxiv_10000\"\n",
    "DIMENSION = 1024\n",
    "BATCH_SIZE = 96\n",
    "TOPK = 5\n",
    "COUNT = 10000"
   ]
  },
  {
   "cell_type": "code",
   "execution_count": 8,
   "id": "a7669232",
   "metadata": {},
   "outputs": [
    {
     "data": {
      "text/plain": [
       "'v2.2.14-lite'"
      ]
     },
     "execution_count": 8,
     "metadata": {},
     "output_type": "execute_result"
    }
   ],
   "source": [
    "from milvus import default_server\n",
    "from pymilvus import connections, utility\n",
    "\n",
    "default_server.start()\n",
    "connections.connect(host = \"127.0.0.1\", port = default_server.listen_port)\n",
    "\n",
    "utility.get_server_version()"
   ]
  },
  {
   "cell_type": "code",
   "execution_count": 9,
   "id": "01fa7915",
   "metadata": {},
   "outputs": [],
   "source": [
    "if utility.has_collection(COLLECTION_NAME):\n",
    "    utility.drop_collection(COLLECTION_NAME)"
   ]
  },
  {
   "cell_type": "code",
   "execution_count": 10,
   "id": "f2aff749",
   "metadata": {},
   "outputs": [
    {
     "data": {
      "text/plain": [
       "Index(['id', 'title', 'abstract', 'label'], dtype='object')"
      ]
     },
     "execution_count": 10,
     "metadata": {},
     "output_type": "execute_result"
    }
   ],
   "source": [
    "arxiv.columns"
   ]
  },
  {
   "cell_type": "code",
   "execution_count": 11,
   "id": "c38f4e35",
   "metadata": {},
   "outputs": [],
   "source": [
    "# object should be inserted in the format of (title, date, location, speech embedding)\n",
    "fields = [\n",
    "    FieldSchema(name = \"id\", dtype = DataType.INT64, is_primary = True, auto_id = True),\n",
    "    FieldSchema(name = \"title\", dtype = DataType.VARCHAR, max_length = 800),\n",
    "    FieldSchema(name = \"abstract\", dtype = DataType.VARCHAR, max_length = 9000),\n",
    "    FieldSchema(name = \"label\", dtype = DataType.VARCHAR, max_length = 50),\n",
    "    FieldSchema(name = \"embedding\", dtype = DataType.FLOAT_VECTOR, dim = DIMENSION)\n",
    "]\n",
    "schema = CollectionSchema(fields = fields)\n",
    "collection = Collection(name = COLLECTION_NAME, schema = schema)"
   ]
  },
  {
   "cell_type": "code",
   "execution_count": 12,
   "id": "7fbcb2da",
   "metadata": {},
   "outputs": [],
   "source": [
    "index_params = {\n",
    "    \"index_type\": \"IVF_FLAT\",\n",
    "    \"metric_type\": \"L2\",\n",
    "    \"params\": {\"nlist\": 1024},\n",
    "}\n",
    "collection.create_index(field_name = \"embedding\", index_params = index_params)\n",
    "collection.load()"
   ]
  },
  {
   "cell_type": "markdown",
   "id": "830b9181",
   "metadata": {},
   "source": [
    "Create Vector Embedding"
   ]
  },
  {
   "cell_type": "code",
   "execution_count": 13,
   "id": "734f20d6",
   "metadata": {},
   "outputs": [],
   "source": [
    "# # Create cohere embeddings\n",
    "# # Set up a co:here client.\n",
    "cohere_client = cohere.Client(\"enter-your-api-key\")"
   ]
  },
  {
   "cell_type": "code",
   "execution_count": 14,
   "id": "c54e61bf",
   "metadata": {},
   "outputs": [],
   "source": [
    "# Extract embeddings from questions using Cohere\n",
    "def embed(texts):\n",
    "    res = cohere_client.embed(texts, model = \"small\")\n",
    "    return res.embeddings"
   ]
  },
  {
   "cell_type": "code",
   "execution_count": 15,
   "id": "2d08ef6c",
   "metadata": {},
   "outputs": [
    {
     "name": "stderr",
     "output_type": "stream",
     "text": [
      "100%|████████████████████████████████████████████████████████████████████████████████| 105/105 [04:24<00:00,  2.52s/it]\n"
     ]
    }
   ],
   "source": [
    "import numpy as np\n",
    "#total = pd.DataFrame()\n",
    "for batch in tqdm(np.array_split(arxiv, (COUNT/BATCH_SIZE) + 1)):\n",
    "    #titles = \n",
    "    abstracts = batch['abstract'].tolist()\n",
    "    data = [\n",
    "        batch['title'].tolist(),\n",
    "        abstracts,\n",
    "        batch['label'].tolist(),\n",
    "        embed(abstracts)\n",
    "    ]\n",
    "\n",
    "    collection.insert(data)\n",
    "\n",
    "# Flush at end to make sure all rows are sent for indexing\n",
    "collection.flush()"
   ]
  },
  {
   "cell_type": "code",
   "execution_count": 19,
   "id": "257fd2a6",
   "metadata": {},
   "outputs": [
    {
     "name": "stdout",
     "output_type": "stream",
     "text": [
      "Query: What papers talk about statistics?\n",
      "Search Time: 0.011820554733276367\n",
      "Results:\n",
      "\n",
      "Accounting for Uncertainty During a Pandemic ---- 1978.183\n",
      "\n",
      "  We discuss several issues of statistical design, data collection, analysis,\n",
      "communication, and decision making that have arisen in recent and ongoing\n",
      "coronavirus studies, focusing on tools for assessment and propagation of\n",
      "uncertainty. This paper does not purport to be a comprehensive survey of the\n",
      "research literature; rather, we use examples to illustrate statistical points\n",
      "that we think are important.\n",
      " ---- 1978.183\n",
      "\n",
      "An Overview of Statistical Data Analysis ---- 1984.019\n",
      "\n",
      "  The use of statistical software in academia and enterprises has been evolving\n",
      "over the last years. More often than not, students, professors, workers, and\n",
      "users, in general, have all had, at some point, exposure to statistical\n",
      "software. Sometimes, difficulties are felt when dealing with such type of\n",
      "software. Very few persons have theoretical knowledge to clearly understand\n",
      "software configurations or settings, and sometimes even the presented results.\n",
      "Very often, the users are required by academies or enterprises to present\n",
      "reports, without the time to explore or understand the results or tasks\n",
      "required to do an optimal preparation of data or software settings. In this\n",
      "work, we present a statistical overview of some theoretical concepts, to\n",
      "provide fast access to some concepts.\n",
      " ---- 1984.019\n",
      "\n",
      "Statistical methods research done as science rather than mathematics ---- 2035.518\n",
      "\n",
      "  This paper is about how we study statistical methods. As an example, it uses\n",
      "the random regressions model, in which the intercept and slope of\n",
      "cluster-specific regression lines are modeled as a bivariate random effect.\n",
      "Maximizing this model's restricted likelihood often gives a boundary value for\n",
      "the random effect correlation or variances. We argue that this is a problem;\n",
      "that it is a problem because our discipline has little understanding of how\n",
      "contemporary models and methods map data to inferential summaries; that we lack\n",
      "such understanding, even for models as simple as this, because of a\n",
      "near-exclusive reliance on mathematics as a means of understanding; and that\n",
      "math alone is no longer sufficient. We then argue that as a discipline, we can\n",
      "and should break open our black-box methods by mimicking the five steps that\n",
      "molecular biologists commonly use to break open Nature's black boxes: design a\n",
      "simple model system, formulate hypotheses using that system, test them in\n",
      "experiments on that system, iterate as needed to reformulate and test\n",
      "hypotheses, and finally test the results in an \"in vivo\" system. We demonstrate\n",
      "this by identifying conditions under which the random-regressions restricted\n",
      "likelihood is likely to be maximized at a boundary value. Resistance to this\n",
      "approach seems to arise from a view that it lacks the certainty or intellectual\n",
      "heft of mathematics, perhaps because simulation experiments in our literature\n",
      "rarely do more than measure a new method's operating characteristics in a small\n",
      "range of situations. We argue that such work can make useful contributions\n",
      "including, as in molecular biology, the findings themselves and sometimes the\n",
      "designs used in the five steps; that these contributions have as much practical\n",
      "value as mathematical results; and that therefore they merit publication as\n",
      "much as the mathematical results our discipline esteems so highly.\n",
      " ---- 2035.518\n",
      "\n",
      "Repeated measurements with unintended feedback: The Dutch new herring\n",
      "  scandals ---- 2202.373\n",
      "\n",
      "  An econometric analysis of consumer research data which hit newspaper\n",
      "headlines in the Netherlands illustrates almost everything that can go wrong\n",
      "when statistical models are fit to the superficial characteristics of a\n",
      "data-set with no attention paid to the data generation mechanism. This paper is\n",
      "dedicated to Ornulf Borgan on the occasion of his virtual 65th birthday\n",
      "celebrations.\n",
      " ---- 2202.373\n",
      "\n",
      "Expanding the scope of statistical computing: Training statisticians to\n",
      "  be software engineers ---- 2230.162\n",
      "\n",
      "  Traditionally, statistical computing courses have taught the syntax of a\n",
      "particular programming language or specific statistical computation methods.\n",
      "Since the publication of Nolan and Temple Lang (2010), we have seen a greater\n",
      "emphasis on data wrangling, reproducible research, and visualization. This\n",
      "shift better prepares students for careers working with complex datasets and\n",
      "producing analyses for multiple audiences. But, we argue, statisticians are now\n",
      "often called upon to develop statistical software, not just analyses, such as R\n",
      "packages implementing new analysis methods or machine learning systems\n",
      "integrated into commercial products. This demands different skills.\n",
      "  We describe a graduate course that we developed to meet this need by focusing\n",
      "on four themes: programming practices; software design; important algorithms\n",
      "and data structures; and essential tools and methods. Through code review and\n",
      "revision, and a semester-long software project, students practice all the\n",
      "skills of software engineering. The course allows students to expand their\n",
      "understanding of computing as applied to statistical problems while building\n",
      "expertise in the kind of software development that is increasingly the province\n",
      "of the working statistician. We see this as a model for the future evolution of\n",
      "the computing curriculum in statistics and data science.\n",
      " ---- 2230.162\n",
      "\n",
      "\n",
      "Query: Give me papers on machine learning.\n",
      "Search Time: 0.011820554733276367\n",
      "Results:\n",
      "\n",
      "Machine learning with neural networks ---- 1866.236\n",
      "\n",
      "  Lecture notes for my course on machine learning with neural networks that I\n",
      "have given at Gothenburg University and Chalmers Technical University in\n",
      "Gothenburg, Sweden.\n",
      " ---- 1866.236\n",
      "\n",
      "Machine Learning on EPEX Order Books: Insights and Forecasts ---- 2168.402\n",
      "\n",
      "  This paper employs machine learning algorithms to forecast German electricity\n",
      "spot market prices. The forecasts utilize in particular bid and ask order book\n",
      "data from the spot market but also fundamental market data like renewable\n",
      "infeed and expected demand. Appropriate feature extraction for the order book\n",
      "data is developed. Using cross-validation to optimise hyperparameters, neural\n",
      "networks and random forests are proposed and compared to statistical reference\n",
      "models. The machine learning models outperform traditional approaches.\n",
      " ---- 2168.402\n",
      "\n",
      "Repeated measurements with unintended feedback: The Dutch new herring\n",
      "  scandals ---- 2329.286\n",
      "\n",
      "  An econometric analysis of consumer research data which hit newspaper\n",
      "headlines in the Netherlands illustrates almost everything that can go wrong\n",
      "when statistical models are fit to the superficial characteristics of a\n",
      "data-set with no attention paid to the data generation mechanism. This paper is\n",
      "dedicated to Ornulf Borgan on the occasion of his virtual 65th birthday\n",
      "celebrations.\n",
      " ---- 2329.286\n",
      "\n",
      "BFKL -- past and future ---- 2364.799\n",
      "\n",
      "  This paper contains my recollection of the creation and development of the\n",
      "so-called BFKL approach and my ideas about the ways of its further development.\n",
      " ---- 2364.799\n",
      "\n",
      "Surveying the reach and maturity of machine learning and artificial\n",
      "  intelligence in astronomy ---- 2415.642\n",
      "\n",
      "  Machine learning (automated processes that learn by example in order to\n",
      "classify, predict, discover or generate new data) and artificial intelligence\n",
      "(methods by which a computer makes decisions or discoveries that would usually\n",
      "require human intelligence) are now firmly established in astronomy. Every\n",
      "week, new applications of machine learning and artificial intelligence are\n",
      "added to a growing corpus of work. Random forests, support vector machines, and\n",
      "neural networks (artificial, deep, and convolutional) are now having a genuine\n",
      "impact for applications as diverse as discovering extrasolar planets, transient\n",
      "objects, quasars, and gravitationally-lensed systems, forecasting solar\n",
      "activity, and distinguishing between signals and instrumental effects in\n",
      "gravitational wave astronomy. This review surveys contemporary, published\n",
      "literature on machine learning and artificial intelligence in astronomy and\n",
      "astrophysics. Applications span seven main categories of activity:\n",
      "classification, regression, clustering, forecasting, generation, discovery, and\n",
      "the development of new scientific insight. These categories form the basis of a\n",
      "hierarchy of maturity, as the use of machine learning and artificial\n",
      "intelligence emerges, progresses or becomes established.\n",
      " ---- 2415.642\n",
      "\n",
      "\n"
     ]
    }
   ],
   "source": [
    "import time\n",
    "search_terms = [\"What papers talk about statistics?\", \"Give me papers on machine learning.\"]\n",
    "\n",
    "# Search the database based on input text\n",
    "def embed_search(data):\n",
    "    embeds = cohere_client.embed(data, model = \"small\") \n",
    "    return [x for x in embeds]\n",
    "\n",
    "search_data = embed_search(search_terms)\n",
    "\n",
    "start = time.time()\n",
    "res = collection.search(\n",
    "    data = search_data,  # Embed search value\n",
    "    anns_field = \"embedding\",  # Search across embeddings\n",
    "    param = {\"metric_type\": \"L2\",\n",
    "            \"params\": {\"nprobe\": 10}},\n",
    "    limit = TOPK,  # Limit to top_k results per search\n",
    "    output_fields = [\"title\",\"abstract\"]  # Include title field in result \n",
    ")\n",
    "\n",
    "end = time.time()\n",
    "\n",
    "for hits_i, hits in enumerate(res):\n",
    "    print(\"Query:\", search_terms[hits_i])\n",
    "    #print(\"Abstract:\", search_terms[hits_i])\n",
    "    print(\"Search Time:\", end-start)\n",
    "    print(\"Results:\\n\")\n",
    "    for hit in hits:\n",
    "        print( hit.entity.get(\"title\"), \"----\", round(hit.distance, 3))\n",
    "        print()\n",
    "        print( hit.entity.get(\"abstract\"), \"----\", round(hit.distance, 3))\n",
    "        print()\n",
    "    print()"
   ]
  },
  {
   "cell_type": "code",
   "execution_count": null,
   "id": "bbd5303d",
   "metadata": {},
   "outputs": [],
   "source": []
  }
 ],
 "metadata": {
  "kernelspec": {
   "display_name": "Python 3 (ipykernel)",
   "language": "python",
   "name": "python3"
  },
  "language_info": {
   "codemirror_mode": {
    "name": "ipython",
    "version": 3
   },
   "file_extension": ".py",
   "mimetype": "text/x-python",
   "name": "python",
   "nbconvert_exporter": "python",
   "pygments_lexer": "ipython3",
   "version": "3.10.9"
  }
 },
 "nbformat": 4,
 "nbformat_minor": 5
}
